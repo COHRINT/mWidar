{
 "cells": [
  {
   "cell_type": "code",
   "execution_count": 1,
   "metadata": {},
   "outputs": [
    {
     "data": {
      "text/plain": [
       "Text(0, 0.5, 'Y')"
      ]
     },
     "execution_count": 1,
     "metadata": {},
     "output_type": "execute_result"
    },
    {
     "data": {
      "image/png": "[encoded data removed]",
      "text/plain": [
       "<Figure size 640x480 with 1 Axes>"
      ]
     },
     "metadata": {},
     "output_type": "display_data"
    }
   ],
   "source": [
    "import numpy as np\n",
    "from matplotlib import pyplot as pl\n",
    "\n",
    "# First you load the generation (M) and recovery matrices (G)\n",
    "M = np.load('data/sampling-12tx-4096samples-128x128.npy')\n",
    "G = np.load('data/recovery-12tx-4096samples-128x128.npy')\n",
    "\n",
    "# convert M and G to float64\n",
    "M = M.astype(np.float64)\n",
    "G = G.astype(np.float64)\n",
    "\n",
    "# Then you create a scene\n",
    "S = np.zeros((128,128))\n",
    "\n",
    "# Then you add targets to the scene\n",
    "S[50,70] = 1\n",
    "#S[70,50] = 1\n",
    "\n",
    "# The conversion from S to image is a two step process.\n",
    "# First you produce the radar signal then you use the signal to get the image\n",
    "signal = M.dot(S.T.flatten())\n",
    "image  = signal.dot(G).reshape(128,128)\n",
    "\n",
    "# The scene is your ground truth\n",
    "pl.imshow(S.T,origin='lower')\n",
    "\n",
    "# Cosmetics\n",
    "ax = pl.gca()\n",
    "ax.set_xlabel('X')\n",
    "ax.set_ylabel('Y')"
   ]
  },
  {
   "cell_type": "code",
   "execution_count": 1,
   "metadata": {},
   "outputs": [
    {
     "ename": "Base.Meta.ParseError",
     "evalue": "ParseError:\n# Error @ /Users/anthonylabarca/Library/CloudStorage/OneDrive-UCB-O365/Research/genCode_mWidar/mWidar/simulator/jl_notebook_cell_df34fa98e69747e1a8f8a730347b8e2f_W1sZmlsZQ==.jl:3:25\n# Notice the drak spots. The correspond to the antennas\npl.imshow(image,origin='lower')\n#                       └───┘ ── character literal contains multiple characters",
     "output_type": "error",
     "traceback": [
      "ParseError:\n",
      "# Error @ /Users/anthonylabarca/Library/CloudStorage/OneDrive-UCB-O365/Research/genCode_mWidar/mWidar/simulator/jl_notebook_cell_df34fa98e69747e1a8f8a730347b8e2f_W1sZmlsZQ==.jl:3:25\n",
      "# Notice the drak spots. The correspond to the antennas\n",
      "pl.imshow(image,origin='lower')\n",
      "#                       └───┘ ── character literal contains multiple characters\n",
      "\n",
      "Stacktrace:\n",
      " [1] top-level scope\n",
      "   @ ~/Library/CloudStorage/OneDrive-UCB-O365/Research/genCode_mWidar/mWidar/simulator/jl_notebook_cell_df34fa98e69747e1a8f8a730347b8e2f_W1sZmlsZQ==.jl:3"
     ]
    }
   ],
   "source": [
    "# The image is the output of the algorithm.\n",
    "# Notice the drak spots. The correspond to the antennas\n",
    "pl.imshow(image,origin='lower')\n",
    "\n",
    "# Cosmetics\n",
    "ax = pl.gca()\n",
    "ax.set_xlabel('X')\n",
    "ax.set_ylabel('Y')"
   ]
  },
  {
   "cell_type": "code",
   "execution_count": 2,
   "metadata": {},
   "outputs": [
    {
     "ename": "UndefVarError",
     "evalue": "UndefVarError: `image` not defined in `Main`\nSuggestion: check for spelling errors or missing imports.",
     "output_type": "error",
     "traceback": [
      "UndefVarError: `image` not defined in `Main`\n",
      "Suggestion: check for spelling errors or missing imports.\n",
      "\n",
      "Stacktrace:\n",
      " [1] top-level scope\n",
      "   @ ~/Library/CloudStorage/OneDrive-UCB-O365/Research/genCode_mWidar/mWidar/simulator/jl_notebook_cell_df34fa98e69747e1a8f8a730347b8e2f_W2sZmlsZQ==.jl:2"
     ]
    }
   ],
   "source": [
    "# Take the histogram of the image so we know how signal amplitudes are distribured\n",
    "hist = pl.hist(image.flatten(),bins=100)"
   ]
  },
  {
   "cell_type": "code",
   "execution_count": 3,
   "metadata": {},
   "outputs": [
    {
     "ename": "UndefVarError",
     "evalue": "UndefVarError: `np` not defined in `Main`\nSuggestion: check for spelling errors or missing imports.",
     "output_type": "error",
     "traceback": [
      "UndefVarError: `np` not defined in `Main`\n",
      "Suggestion: check for spelling errors or missing imports.\n",
      "\n",
      "Stacktrace:\n",
      " [1] top-level scope\n",
      "   @ ~/Library/CloudStorage/OneDrive-UCB-O365/Research/genCode_mWidar/mWidar/simulator/jl_notebook_cell_df34fa98e69747e1a8f8a730347b8e2f_W3sZmlsZQ==.jl:2"
     ]
    }
   ],
   "source": [
    "# Now, lets create some Gaussian noise in the signal\n",
    "noise = np.random.normal(1.3,4,size=4096)\n",
    "noise_histogram = pl.hist(noise,bins=50)\n",
    "# And then we compare this noise with the signal\n",
    "signal_histogram = pl.hist(signal,bins=50,alpha=0.7)"
   ]
  },
  {
   "cell_type": "code",
   "execution_count": 2,
   "metadata": {},
   "outputs": [
    {
     "ename": "NameError",
     "evalue": "name 'noise' is not defined",
     "output_type": "error",
     "traceback": [
      "\u001b[0;31m---------------------------------------------------------------------------\u001b[0m",
      "\u001b[0;31mNameError\u001b[0m                                 Traceback (most recent call last)",
      "Cell \u001b[0;32mIn[2], line 2\u001b[0m\n\u001b[1;32m      1\u001b[0m \u001b[38;5;66;03m# We now add the noise to the signal\u001b[39;00m\n\u001b[0;32m----> 2\u001b[0m signal_plus_noise \u001b[38;5;241m=\u001b[39m signal\u001b[38;5;241m+\u001b[39m\u001b[43mnoise\u001b[49m\n\u001b[1;32m      3\u001b[0m noisy_image \u001b[38;5;241m=\u001b[39m signal_plus_noise\u001b[38;5;241m.\u001b[39mdot(G)\u001b[38;5;241m.\u001b[39mreshape(\u001b[38;5;241m128\u001b[39m,\u001b[38;5;241m128\u001b[39m)\n\u001b[1;32m      4\u001b[0m pl\u001b[38;5;241m.\u001b[39mimshow(noisy_image,origin\u001b[38;5;241m=\u001b[39m\u001b[38;5;124m'\u001b[39m\u001b[38;5;124mlower\u001b[39m\u001b[38;5;124m'\u001b[39m)\n",
      "\u001b[0;31mNameError\u001b[0m: name 'noise' is not defined"
     ]
    }
   ],
   "source": [
    "# We now add the noise to the signal\n",
    "signal_plus_noise = signal+noise\n",
    "noisy_image = signal_plus_noise.dot(G).reshape(128,128)\n",
    "pl.imshow(noisy_image,origin='lower')"
   ]
  },
  {
   "cell_type": "code",
   "execution_count": 3,
   "metadata": {},
   "outputs": [
    {
     "name": "stdout",
     "output_type": "stream",
     "text": [
      "(4096, 16384) (4096, 16384)\n"
     ]
    }
   ],
   "source": [
    "print(M.shape,G.shape)"
   ]
  },
  {
   "cell_type": "code",
   "execution_count": 42,
   "metadata": {},
   "outputs": [],
   "source": []
  },
  {
   "cell_type": "code",
   "execution_count": 43,
   "metadata": {},
   "outputs": [],
   "source": [
    "# struct.pack(\">2d\",M[1000][:2].flatten)"
   ]
  },
  {
   "cell_type": "code",
   "execution_count": 6,
   "metadata": {},
   "outputs": [],
   "source": [
    "Mbin = M.tobytes()\n",
    "Gbin = G.tobytes()"
   ]
  },
  {
   "cell_type": "code",
   "execution_count": 7,
   "metadata": {},
   "outputs": [
    {
     "data": {
      "text/plain": [
       "(4096, 16384)"
      ]
     },
     "execution_count": 7,
     "metadata": {},
     "output_type": "execute_result"
    }
   ],
   "source": [
    "G.shape"
   ]
  },
  {
   "cell_type": "code",
   "execution_count": 11,
   "metadata": {},
   "outputs": [
    {
     "name": "stdout",
     "output_type": "stream",
     "text": [
      "CMakeLists.txt           example.ipynb            sampling.bin\n",
      "\u001b[31mSimulator\u001b[m\u001b[m                getTracks.py             sampling.mat\n",
      "Simulator.cpp            helper_classes.py        semaphore.py\n",
      "\u001b[1m\u001b[36mSimulator.dSYM\u001b[m\u001b[m           \u001b[1m\u001b[36mimport\u001b[m\u001b[m                   \u001b[31msetup.bash\u001b[m\u001b[m\n",
      "Simulator.m              \u001b[1m\u001b[36mmatlab_functions\u001b[m\u001b[m         setup.cmd\n",
      "__init__.py              matrices.zip             setup.py\n",
      "\u001b[1m\u001b[36m__pycache__\u001b[m\u001b[m              params.json              simulateTracks.py\n",
      "\u001b[1m\u001b[36mbuild\u001b[m\u001b[m                    posix_sem.py             simulator.py\n",
      "convert_files.py         recovery.bin             \u001b[1m\u001b[36mvenv\u001b[m\u001b[m\n",
      "\u001b[1m\u001b[36mdata\u001b[m\u001b[m                     recovery.mat             windows-requirements.txt\n",
      "\u001b[1m\u001b[36mdata_txt\u001b[m\u001b[m                 requirements.txt         windows_sem.py\n"
     ]
    }
   ],
   "source": [
    "!ls"
   ]
  },
  {
   "cell_type": "code",
   "execution_count": 12,
   "metadata": {},
   "outputs": [],
   "source": [
    "from scipy.io import savemat\n",
    "\n",
    "with open('sampling.bin','wb') as f:\n",
    "    f.write(Mbin)\n",
    "with open('sampling.mat', 'wb') as f:\n",
    "    savemat(f,{'M':M})\n",
    "with open('recovery.bin','wb') as f:\n",
    "    f.write(Gbin)\n",
    "with open('recovery.mat', 'wb') as f:\n",
    "    savemat(f,{'G':G})"
   ]
  },
  {
   "cell_type": "code",
   "execution_count": 9,
   "metadata": {},
   "outputs": [
    {
     "name": "stdout",
     "output_type": "stream",
     "text": [
      "67108864 67108864\n",
      "67108864 67108864\n"
     ]
    }
   ],
   "source": [
    "# reinport the matricies and check sizes\n",
    "print(M.flatten().size, G.flatten().size)\n",
    "\n",
    "a = np.fromfile('sampling.bin',dtype=np.float64)\n",
    "b = np.fromfile('recovery.bin',dtype=np.float64)\n",
    "\n",
    "print(a.size, b.size)"
   ]
  },
  {
   "cell_type": "code",
   "execution_count": 28,
   "metadata": {},
   "outputs": [
    {
     "data": {
      "text/plain": [
       "0.5439701788127422"
      ]
     },
     "execution_count": 28,
     "metadata": {},
     "output_type": "execute_result"
    }
   ],
   "source": [
    "M[-1][-1]"
   ]
  },
  {
   "cell_type": "code",
   "execution_count": 29,
   "metadata": {},
   "outputs": [
    {
     "data": {
      "text/plain": [
       "'0x15dc'"
      ]
     },
     "execution_count": 29,
     "metadata": {},
     "output_type": "execute_result"
    }
   ],
   "source": [
    "hex(5596)"
   ]
  },
  {
   "cell_type": "code",
   "execution_count": 30,
   "metadata": {},
   "outputs": [
    {
     "data": {
      "text/plain": [
       "0.0"
      ]
     },
     "execution_count": 30,
     "metadata": {},
     "output_type": "execute_result"
    }
   ],
   "source": [
    "M[0][1400]"
   ]
  },
  {
   "cell_type": "code",
   "execution_count": 48,
   "metadata": {},
   "outputs": [
    {
     "name": "stdout",
     "output_type": "stream",
     "text": [
      "3.776754677295685 0.023895034566521645\n"
     ]
    }
   ],
   "source": [
    "print(M[1398][0], G[1398][0])"
   ]
  },
  {
   "cell_type": "code",
   "execution_count": null,
   "metadata": {},
   "outputs": [],
   "source": []
  },
  {
   "cell_type": "code",
   "execution_count": 32,
   "metadata": {},
   "outputs": [],
   "source": [
    "import numpy as np\n",
    "example_array = np.array([[.1, .2, .3], [-.4, -.5, -.6], [.7, .8, .9]])\n",
    "examplebin = example_array.tobytes()\n",
    "with open('import/example.bin','wb') as f:\n",
    "    f.write(examplebin)"
   ]
  },
  {
   "cell_type": "code",
   "execution_count": null,
   "metadata": {},
   "outputs": [],
   "source": []
  }
 ],
 "metadata": {
  "kernelspec": {
   "display_name": "base",
   "language": "python",
   "name": "base"
  },
  "language_info": {
   "codemirror_mode": {
    "name": "ipython",
    "version": 3
   },
   "file_extension": ".py",
   "mimetype": "text/x-python",
   "name": "python",
   "nbconvert_exporter": "python",
   "pygments_lexer": "ipython3",
   "version": "3.9.19"
  }
 },
 "nbformat": 4,
 "nbformat_minor": 4
}
